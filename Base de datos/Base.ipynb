{
 "cells": [
  {
   "cell_type": "code",
   "execution_count": 2,
   "id": "d15d0f39",
   "metadata": {},
   "outputs": [
    {
     "data": {
      "text/html": [
       "<div>\n",
       "<style scoped>\n",
       "    .dataframe tbody tr th:only-of-type {\n",
       "        vertical-align: middle;\n",
       "    }\n",
       "\n",
       "    .dataframe tbody tr th {\n",
       "        vertical-align: top;\n",
       "    }\n",
       "\n",
       "    .dataframe thead th {\n",
       "        text-align: right;\n",
       "    }\n",
       "</style>\n",
       "<table border=\"1\" class=\"dataframe\">\n",
       "  <thead>\n",
       "    <tr style=\"text-align: right;\">\n",
       "      <th></th>\n",
       "      <th>Banco_Origen</th>\n",
       "      <th>Banco_Destino</th>\n",
       "      <th>Monto</th>\n",
       "      <th>Fecha</th>\n",
       "    </tr>\n",
       "  </thead>\n",
       "  <tbody>\n",
       "    <tr>\n",
       "      <th>0</th>\n",
       "      <td>Banco Guayaquil</td>\n",
       "      <td>Banco Pichincha</td>\n",
       "      <td>450000</td>\n",
       "      <td>2025-01-05</td>\n",
       "    </tr>\n",
       "    <tr>\n",
       "      <th>1</th>\n",
       "      <td>Banco Guayaquil</td>\n",
       "      <td>Banco Rumiñahui</td>\n",
       "      <td>1250000</td>\n",
       "      <td>2025-01-20</td>\n",
       "    </tr>\n",
       "    <tr>\n",
       "      <th>2</th>\n",
       "      <td>Banco Pichincha</td>\n",
       "      <td>Banco Bolivariano</td>\n",
       "      <td>700000</td>\n",
       "      <td>2025-02-10</td>\n",
       "    </tr>\n",
       "    <tr>\n",
       "      <th>3</th>\n",
       "      <td>Banco Rumiñahui</td>\n",
       "      <td>Banco del Pacífico</td>\n",
       "      <td>300000</td>\n",
       "      <td>2025-03-01</td>\n",
       "    </tr>\n",
       "    <tr>\n",
       "      <th>4</th>\n",
       "      <td>Banco del Pacífico</td>\n",
       "      <td>Banco Guayaquil</td>\n",
       "      <td>1600000</td>\n",
       "      <td>2025-04-12</td>\n",
       "    </tr>\n",
       "    <tr>\n",
       "      <th>5</th>\n",
       "      <td>Banco Bolivariano</td>\n",
       "      <td>Banco Rumiñahui</td>\n",
       "      <td>550000</td>\n",
       "      <td>2025-05-05</td>\n",
       "    </tr>\n",
       "  </tbody>\n",
       "</table>\n",
       "</div>"
      ],
      "text/plain": [
       "         Banco_Origen       Banco_Destino    Monto       Fecha\n",
       "0     Banco Guayaquil     Banco Pichincha   450000  2025-01-05\n",
       "1     Banco Guayaquil     Banco Rumiñahui  1250000  2025-01-20\n",
       "2     Banco Pichincha   Banco Bolivariano   700000  2025-02-10\n",
       "3     Banco Rumiñahui  Banco del Pacífico   300000  2025-03-01\n",
       "4  Banco del Pacífico     Banco Guayaquil  1600000  2025-04-12\n",
       "5   Banco Bolivariano     Banco Rumiñahui   550000  2025-05-05"
      ]
     },
     "execution_count": 2,
     "metadata": {},
     "output_type": "execute_result"
    }
   ],
   "source": [
    "import pandas as pd\n",
    "\n",
    "# Cargar el archivo Excel subido\n",
    "file_path = \"relaciones_bancarias_ecuador.xlsx\"\n",
    "df = pd.read_excel(file_path)\n",
    "df.head(6) # Muestra las primeras filas para analizar la estructura del dataset"
   ]
  }
 ],
 "metadata": {
  "kernelspec": {
   "display_name": "Program_2",
   "language": "python",
   "name": "python3"
  },
  "language_info": {
   "codemirror_mode": {
    "name": "ipython",
    "version": 3
   },
   "file_extension": ".py",
   "mimetype": "text/x-python",
   "name": "python",
   "nbconvert_exporter": "python",
   "pygments_lexer": "ipython3",
   "version": "3.12.3"
  }
 },
 "nbformat": 4,
 "nbformat_minor": 5
}
